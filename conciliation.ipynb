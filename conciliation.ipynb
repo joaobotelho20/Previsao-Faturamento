{
 "cells": [
  {
   "cell_type": "code",
   "execution_count": 2,
   "metadata": {},
   "outputs": [],
   "source": [
    "import numpy as np\n",
    "import pandas as pd\n",
    "# from pandas.tseries.offsets import CustomBusinessDay\n",
    "# from pandas.tseries.holiday import AbstractHolidayCalendar, Holiday, nearest_workday"
   ]
  },
  {
   "cell_type": "code",
   "execution_count": 3,
   "metadata": {},
   "outputs": [],
   "source": [
    "## ABRINDO PLANILHA GOOGLE\n",
    "\n",
    "# bilbiotecas segurança google e acesso ao sheets\n",
    "import os.path\n",
    "from google.auth.transport.requests import Request\n",
    "from google.oauth2.credentials import Credentials\n",
    "from google_auth_oauthlib.flow import InstalledAppFlow\n",
    "from googleapiclient.discovery import build\n",
    "\n",
    "# If modifying these scopes, delete the file token.json.\n",
    "SCOPES = [\"https://www.googleapis.com/auth/spreadsheets\"]   #caso queira limitar o poder sobre a planilha, add \".readonly\"\n",
    "\n",
    "#def main():  \n",
    "creds = None\n",
    "\n",
    "if os.path.exists(\"token.json\"):\n",
    "  creds = Credentials.from_authorized_user_file(\"token.json\", SCOPES)\n",
    "\n",
    "if not creds or not creds.valid:\n",
    "  if creds and creds.expired and creds.refresh_token:\n",
    "    creds.refresh(Request())\n",
    "  else:\n",
    "    flow = InstalledAppFlow.from_client_secrets_file(\n",
    "        \"client_secret2.json\", SCOPES\n",
    "    )\n",
    "    creds = flow.run_local_server(port=0)\n",
    "\n",
    "  with open(\"token.json\", \"w\") as token:\n",
    "    token.write(creds.to_json())\n",
    "\n",
    "# The ID and range of a sample spreadsheet.\n",
    "SAMPLE_SPREADSHEET_ID = \"1td40BQ7k6heUOjKamm10gbb93hHYpkbIykDPu6IwJHU\"\n",
    "SAMPLE_RANGE_NAME = \"C6 Pay!A:V\"\n",
    "\n",
    "\n",
    "service = build(\"sheets\", \"v4\", credentials=creds)\n",
    "\n",
    "# Call the Sheets API\n",
    "sheet = service.spreadsheets()\n",
    "result = (\n",
    "    sheet.values()\n",
    "    .get(spreadsheetId=SAMPLE_SPREADSHEET_ID, range=SAMPLE_RANGE_NAME)\n",
    "    .execute()\n",
    ")\n",
    "values = result.get(\"values\", [])"
   ]
  },
  {
   "cell_type": "code",
   "execution_count": 4,
   "metadata": {},
   "outputs": [],
   "source": [
    "## INICIANDO O TRATAMENTO DOS DADOS E ASSOCIANDO A UM DATAFRAME\n",
    "# convertendo lista values em dataframe\n",
    "data = pd.DataFrame(values[1:],columns=values[0])\n",
    "\n",
    "#tratamento dos valores vendidos no cartão\n",
    "# copiando valores para manipular em uma lista\n",
    "lista_aux = data['Valor da Venda'].copy()\n",
    "\n",
    "#zerando vazios dentro da coluna valores\n",
    "lista_aux = [\"0,00\" if valor == '' else valor for valor in lista_aux]\n",
    "\n",
    "#convertendo string em número para poder manipular matematicamente\n",
    "lista_aux = [float(numero.replace(',', '.')) for numero in lista_aux if numero != '']\n",
    "\n",
    "#copiando valores da lista para a coluna respectiva no dataframe              \n",
    "data['Valor da Venda'] = lista_aux"
   ]
  },
  {
   "cell_type": "code",
   "execution_count": 9,
   "metadata": {},
   "outputs": [
    {
     "name": "stdout",
     "output_type": "stream",
     "text": [
      "Ano: 2023 \n",
      "Mês: 11 \n",
      "\n",
      "Operação: Débito \n",
      "Valor: R$ 2415.2 \n",
      "\n",
      "Operação: Crédito \n",
      "Valor: R$ 1213.5 \n",
      "\n",
      "Valor Total: R$ 3628.7 \n",
      "\n"
     ]
    }
   ],
   "source": [
    "## VENDA REALIZADA NO MÊS\n",
    "#criando variaveis para filtro (listas e inteiros)\n",
    "autorizado = ['autorizado','AUTHORIZED','Autorizado']\n",
    "debit = ['débito','Débito','DEBIT']\n",
    "credit = ['CREDIT','crédito','Crédito']\n",
    "ano = '2023'\n",
    "mes = '11' \n",
    "\n",
    "\n",
    "#filtrando valores dentro do dataframe com variáveis desejadas para o relatorio\n",
    "data_filt = data[data['Status'].isin(autorizado)  #filtro para transação autorizada\n",
    "                  & (data['Ano Venda'] == ano)     #filtro ano da venda\n",
    "                  & (data['Mês Venda'] == mes)     #filtro mes da venda\n",
    "                  ]\n",
    "\n",
    "#print(len(data_filt['Valor da Venda']))\n",
    "venda_mes_debit = data_filt[data_filt['Operação'].isin(debit)]['Valor da Venda'].sum()\n",
    "venda_mes_credit = data_filt[data_filt['Operação'].isin(credit)]['Valor da Venda'].sum()\n",
    "\n",
    "print(\"Ano:\",ano,\"\\nMês:\",mes,\"\\n\\nOperação: Débito\",\"\\nValor: R$\",venda_mes_debit,\n",
    "        \"\\n\\nOperação: Crédito\",\"\\nValor: R$\",venda_mes_credit,\n",
    "        \"\\n\\nValor Total: R$\",round(venda_mes_credit+venda_mes_debit,2),\"\\n\"\n",
    "    )"
   ]
  },
  {
   "cell_type": "code",
   "execution_count": 44,
   "metadata": {},
   "outputs": [
    {
     "name": "stdout",
     "output_type": "stream",
     "text": [
      "[Timestamp('2001-01-01 00:00:00'), Timestamp('2001-02-26 00:00:00'), Timestamp('2001-02-27 00:00:00'), Timestamp('2001-04-13 00:00:00'), Timestamp('2001-04-21 00:00:00'), Timestamp('2001-05-01 00:00:00'), Timestamp('2001-06-14 00:00:00'), Timestamp('2001-09-07 00:00:00'), Timestamp('2001-10-12 00:00:00'), Timestamp('2001-11-02 00:00:00'), Timestamp('2001-11-15 00:00:00'), Timestamp('2001-12-25 00:00:00'), Timestamp('2002-01-01 00:00:00'), Timestamp('2002-02-11 00:00:00'), Timestamp('2002-02-12 00:00:00'), Timestamp('2002-03-29 00:00:00'), Timestamp('2002-04-21 00:00:00'), Timestamp('2002-05-01 00:00:00'), Timestamp('2002-05-30 00:00:00'), Timestamp('2002-09-07 00:00:00'), Timestamp('2002-10-12 00:00:00'), Timestamp('2002-11-02 00:00:00'), Timestamp('2002-11-15 00:00:00'), Timestamp('2002-12-25 00:00:00'), Timestamp('2003-01-01 00:00:00'), Timestamp('2003-03-03 00:00:00'), Timestamp('2003-03-04 00:00:00'), Timestamp('2003-04-18 00:00:00'), Timestamp('2003-04-21 00:00:00'), Timestamp('2003-05-01 00:00:00'), Timestamp('2003-06-19 00:00:00'), Timestamp('2003-09-07 00:00:00'), Timestamp('2003-10-12 00:00:00'), Timestamp('2003-11-02 00:00:00'), Timestamp('2003-11-15 00:00:00'), Timestamp('2003-12-25 00:00:00'), Timestamp('2004-01-01 00:00:00'), Timestamp('2004-02-23 00:00:00'), Timestamp('2004-02-24 00:00:00'), Timestamp('2004-04-09 00:00:00'), Timestamp('2004-04-21 00:00:00'), Timestamp('2004-05-01 00:00:00'), Timestamp('2004-06-10 00:00:00'), Timestamp('2004-09-07 00:00:00'), Timestamp('2004-10-12 00:00:00'), Timestamp('2004-11-02 00:00:00'), Timestamp('2004-11-15 00:00:00'), Timestamp('2004-12-25 00:00:00'), Timestamp('2005-01-01 00:00:00'), Timestamp('2005-02-07 00:00:00'), Timestamp('2005-02-08 00:00:00'), Timestamp('2005-03-25 00:00:00'), Timestamp('2005-04-21 00:00:00'), Timestamp('2005-05-01 00:00:00'), Timestamp('2005-05-26 00:00:00'), Timestamp('2005-09-07 00:00:00'), Timestamp('2005-10-12 00:00:00'), Timestamp('2005-11-02 00:00:00'), Timestamp('2005-11-15 00:00:00'), Timestamp('2005-12-25 00:00:00'), Timestamp('2006-01-01 00:00:00'), Timestamp('2006-02-27 00:00:00'), Timestamp('2006-02-28 00:00:00'), Timestamp('2006-04-14 00:00:00'), Timestamp('2006-04-21 00:00:00'), Timestamp('2006-05-01 00:00:00'), Timestamp('2006-06-15 00:00:00'), Timestamp('2006-09-07 00:00:00'), Timestamp('2006-10-12 00:00:00'), Timestamp('2006-11-02 00:00:00'), Timestamp('2006-11-15 00:00:00'), Timestamp('2006-12-25 00:00:00'), Timestamp('2007-01-01 00:00:00'), Timestamp('2007-02-19 00:00:00'), Timestamp('2007-02-20 00:00:00'), Timestamp('2007-04-06 00:00:00'), Timestamp('2007-04-21 00:00:00'), Timestamp('2007-05-01 00:00:00'), Timestamp('2007-06-07 00:00:00'), Timestamp('2007-09-07 00:00:00'), Timestamp('2007-10-12 00:00:00'), Timestamp('2007-11-02 00:00:00'), Timestamp('2007-11-15 00:00:00'), Timestamp('2007-12-25 00:00:00'), Timestamp('2008-01-01 00:00:00'), Timestamp('2008-02-04 00:00:00'), Timestamp('2008-02-05 00:00:00'), Timestamp('2008-03-21 00:00:00'), Timestamp('2008-04-21 00:00:00'), Timestamp('2008-05-01 00:00:00'), Timestamp('2008-05-22 00:00:00'), Timestamp('2008-09-07 00:00:00'), Timestamp('2008-10-12 00:00:00'), Timestamp('2008-11-02 00:00:00'), Timestamp('2008-11-15 00:00:00'), Timestamp('2008-12-25 00:00:00'), Timestamp('2009-01-01 00:00:00'), Timestamp('2009-02-23 00:00:00'), Timestamp('2009-02-24 00:00:00'), Timestamp('2009-04-10 00:00:00'), Timestamp('2009-04-21 00:00:00'), Timestamp('2009-05-01 00:00:00'), Timestamp('2009-06-11 00:00:00'), Timestamp('2009-09-07 00:00:00'), Timestamp('2009-10-12 00:00:00'), Timestamp('2009-11-02 00:00:00'), Timestamp('2009-11-15 00:00:00'), Timestamp('2009-12-25 00:00:00'), Timestamp('2010-01-01 00:00:00'), Timestamp('2010-02-15 00:00:00'), Timestamp('2010-02-16 00:00:00'), Timestamp('2010-04-02 00:00:00'), Timestamp('2010-04-21 00:00:00'), Timestamp('2010-05-01 00:00:00'), Timestamp('2010-06-03 00:00:00'), Timestamp('2010-09-07 00:00:00'), Timestamp('2010-10-12 00:00:00'), Timestamp('2010-11-02 00:00:00'), Timestamp('2010-11-15 00:00:00'), Timestamp('2010-12-25 00:00:00'), Timestamp('2011-01-01 00:00:00'), Timestamp('2011-03-07 00:00:00'), Timestamp('2011-03-08 00:00:00'), Timestamp('2011-04-21 00:00:00'), Timestamp('2011-04-22 00:00:00'), Timestamp('2011-05-01 00:00:00'), Timestamp('2011-06-23 00:00:00'), Timestamp('2011-09-07 00:00:00'), Timestamp('2011-10-12 00:00:00'), Timestamp('2011-11-02 00:00:00'), Timestamp('2011-11-15 00:00:00'), Timestamp('2011-12-25 00:00:00'), Timestamp('2012-01-01 00:00:00'), Timestamp('2012-02-20 00:00:00'), Timestamp('2012-02-21 00:00:00'), Timestamp('2012-04-06 00:00:00'), Timestamp('2012-04-21 00:00:00'), Timestamp('2012-05-01 00:00:00'), Timestamp('2012-06-07 00:00:00'), Timestamp('2012-09-07 00:00:00'), Timestamp('2012-10-12 00:00:00'), Timestamp('2012-11-02 00:00:00'), Timestamp('2012-11-15 00:00:00'), Timestamp('2012-12-25 00:00:00'), Timestamp('2013-01-01 00:00:00'), Timestamp('2013-02-11 00:00:00'), Timestamp('2013-02-12 00:00:00'), Timestamp('2013-03-29 00:00:00'), Timestamp('2013-04-21 00:00:00'), Timestamp('2013-05-01 00:00:00'), Timestamp('2013-05-30 00:00:00'), Timestamp('2013-09-07 00:00:00'), Timestamp('2013-10-12 00:00:00'), Timestamp('2013-11-02 00:00:00'), Timestamp('2013-11-15 00:00:00'), Timestamp('2013-12-25 00:00:00'), Timestamp('2014-01-01 00:00:00'), Timestamp('2014-03-03 00:00:00'), Timestamp('2014-03-04 00:00:00'), Timestamp('2014-04-18 00:00:00'), Timestamp('2014-04-21 00:00:00'), Timestamp('2014-05-01 00:00:00'), Timestamp('2014-06-19 00:00:00'), Timestamp('2014-09-07 00:00:00'), Timestamp('2014-10-12 00:00:00'), Timestamp('2014-11-02 00:00:00'), Timestamp('2014-11-15 00:00:00'), Timestamp('2014-12-25 00:00:00'), Timestamp('2015-01-01 00:00:00'), Timestamp('2015-02-16 00:00:00'), Timestamp('2015-02-17 00:00:00'), Timestamp('2015-04-03 00:00:00'), Timestamp('2015-04-21 00:00:00'), Timestamp('2015-05-01 00:00:00'), Timestamp('2015-06-04 00:00:00'), Timestamp('2015-09-07 00:00:00'), Timestamp('2015-10-12 00:00:00'), Timestamp('2015-11-02 00:00:00'), Timestamp('2015-11-15 00:00:00'), Timestamp('2015-12-25 00:00:00'), Timestamp('2016-01-01 00:00:00'), Timestamp('2016-02-08 00:00:00'), Timestamp('2016-02-09 00:00:00'), Timestamp('2016-03-25 00:00:00'), Timestamp('2016-04-21 00:00:00'), Timestamp('2016-05-01 00:00:00'), Timestamp('2016-05-26 00:00:00'), Timestamp('2016-09-07 00:00:00'), Timestamp('2016-10-12 00:00:00'), Timestamp('2016-11-02 00:00:00'), Timestamp('2016-11-15 00:00:00'), Timestamp('2016-12-25 00:00:00'), Timestamp('2017-01-01 00:00:00'), Timestamp('2017-02-27 00:00:00'), Timestamp('2017-02-28 00:00:00'), Timestamp('2017-04-14 00:00:00'), Timestamp('2017-04-21 00:00:00'), Timestamp('2017-05-01 00:00:00'), Timestamp('2017-06-15 00:00:00'), Timestamp('2017-09-07 00:00:00'), Timestamp('2017-10-12 00:00:00'), Timestamp('2017-11-02 00:00:00'), Timestamp('2017-11-15 00:00:00'), Timestamp('2017-12-25 00:00:00'), Timestamp('2018-01-01 00:00:00'), Timestamp('2018-02-12 00:00:00'), Timestamp('2018-02-13 00:00:00'), Timestamp('2018-03-30 00:00:00'), Timestamp('2018-04-21 00:00:00'), Timestamp('2018-05-01 00:00:00'), Timestamp('2018-05-31 00:00:00'), Timestamp('2018-09-07 00:00:00'), Timestamp('2018-10-12 00:00:00'), Timestamp('2018-11-02 00:00:00'), Timestamp('2018-11-15 00:00:00'), Timestamp('2018-12-25 00:00:00'), Timestamp('2019-01-01 00:00:00'), Timestamp('2019-03-04 00:00:00'), Timestamp('2019-03-05 00:00:00'), Timestamp('2019-04-19 00:00:00'), Timestamp('2019-04-21 00:00:00'), Timestamp('2019-05-01 00:00:00'), Timestamp('2019-06-20 00:00:00'), Timestamp('2019-09-07 00:00:00'), Timestamp('2019-10-12 00:00:00'), Timestamp('2019-11-02 00:00:00'), Timestamp('2019-11-15 00:00:00'), Timestamp('2019-12-25 00:00:00'), Timestamp('2020-01-01 00:00:00'), Timestamp('2020-02-24 00:00:00'), Timestamp('2020-02-25 00:00:00'), Timestamp('2020-04-10 00:00:00'), Timestamp('2020-04-21 00:00:00'), Timestamp('2020-05-01 00:00:00'), Timestamp('2020-06-11 00:00:00'), Timestamp('2020-09-07 00:00:00'), Timestamp('2020-10-12 00:00:00'), Timestamp('2020-11-02 00:00:00'), Timestamp('2020-11-15 00:00:00'), Timestamp('2020-12-25 00:00:00'), Timestamp('2021-01-01 00:00:00'), Timestamp('2021-02-15 00:00:00'), Timestamp('2021-02-16 00:00:00'), Timestamp('2021-04-02 00:00:00'), Timestamp('2021-04-21 00:00:00'), Timestamp('2021-05-01 00:00:00'), Timestamp('2021-06-03 00:00:00'), Timestamp('2021-09-07 00:00:00'), Timestamp('2021-10-12 00:00:00'), Timestamp('2021-11-02 00:00:00'), Timestamp('2021-11-15 00:00:00'), Timestamp('2021-12-25 00:00:00'), Timestamp('2022-01-01 00:00:00'), Timestamp('2022-02-28 00:00:00'), Timestamp('2022-03-01 00:00:00'), Timestamp('2022-04-15 00:00:00'), Timestamp('2022-04-21 00:00:00'), Timestamp('2022-05-01 00:00:00'), Timestamp('2022-06-16 00:00:00'), Timestamp('2022-09-07 00:00:00'), Timestamp('2022-10-12 00:00:00'), Timestamp('2022-11-02 00:00:00'), Timestamp('2022-11-15 00:00:00'), Timestamp('2022-12-25 00:00:00'), Timestamp('2023-01-01 00:00:00'), Timestamp('2023-02-20 00:00:00'), Timestamp('2023-02-21 00:00:00'), Timestamp('2023-04-07 00:00:00'), Timestamp('2023-04-21 00:00:00'), Timestamp('2023-05-01 00:00:00'), Timestamp('2023-06-08 00:00:00'), Timestamp('2023-09-07 00:00:00'), Timestamp('2023-10-12 00:00:00'), Timestamp('2023-11-02 00:00:00'), Timestamp('2023-11-15 00:00:00'), Timestamp('2023-12-25 00:00:00'), Timestamp('2024-01-01 00:00:00'), Timestamp('2024-02-12 00:00:00'), Timestamp('2024-02-13 00:00:00'), Timestamp('2024-03-29 00:00:00'), Timestamp('2024-04-21 00:00:00'), Timestamp('2024-05-01 00:00:00'), Timestamp('2024-05-30 00:00:00'), Timestamp('2024-09-07 00:00:00'), Timestamp('2024-10-12 00:00:00'), Timestamp('2024-11-02 00:00:00'), Timestamp('2024-11-15 00:00:00'), Timestamp('2024-12-25 00:00:00'), Timestamp('2025-01-01 00:00:00'), Timestamp('2025-03-03 00:00:00'), Timestamp('2025-03-04 00:00:00'), Timestamp('2025-04-18 00:00:00'), Timestamp('2025-04-21 00:00:00'), Timestamp('2025-05-01 00:00:00'), Timestamp('2025-06-19 00:00:00'), Timestamp('2025-09-07 00:00:00'), Timestamp('2025-10-12 00:00:00'), Timestamp('2025-11-02 00:00:00'), Timestamp('2025-11-15 00:00:00'), Timestamp('2025-12-25 00:00:00'), Timestamp('2026-01-01 00:00:00'), Timestamp('2026-02-16 00:00:00'), Timestamp('2026-02-17 00:00:00'), Timestamp('2026-04-03 00:00:00'), Timestamp('2026-04-21 00:00:00'), Timestamp('2026-05-01 00:00:00'), Timestamp('2026-06-04 00:00:00'), Timestamp('2026-09-07 00:00:00'), Timestamp('2026-10-12 00:00:00'), Timestamp('2026-11-02 00:00:00'), Timestamp('2026-11-15 00:00:00'), Timestamp('2026-12-25 00:00:00'), Timestamp('2027-01-01 00:00:00'), Timestamp('2027-02-08 00:00:00'), Timestamp('2027-02-09 00:00:00'), Timestamp('2027-03-26 00:00:00'), Timestamp('2027-04-21 00:00:00'), Timestamp('2027-05-01 00:00:00'), Timestamp('2027-05-27 00:00:00'), Timestamp('2027-09-07 00:00:00'), Timestamp('2027-10-12 00:00:00'), Timestamp('2027-11-02 00:00:00'), Timestamp('2027-11-15 00:00:00'), Timestamp('2027-12-25 00:00:00'), Timestamp('2028-01-01 00:00:00'), Timestamp('2028-02-28 00:00:00'), Timestamp('2028-02-29 00:00:00'), Timestamp('2028-04-14 00:00:00'), Timestamp('2028-04-21 00:00:00'), Timestamp('2028-05-01 00:00:00'), Timestamp('2028-06-15 00:00:00'), Timestamp('2028-09-07 00:00:00'), Timestamp('2028-10-12 00:00:00'), Timestamp('2028-11-02 00:00:00'), Timestamp('2028-11-15 00:00:00'), Timestamp('2028-12-25 00:00:00'), Timestamp('2029-01-01 00:00:00'), Timestamp('2029-02-12 00:00:00'), Timestamp('2029-02-13 00:00:00'), Timestamp('2029-03-30 00:00:00'), Timestamp('2029-04-21 00:00:00'), Timestamp('2029-05-01 00:00:00'), Timestamp('2029-05-31 00:00:00'), Timestamp('2029-09-07 00:00:00'), Timestamp('2029-10-12 00:00:00'), Timestamp('2029-11-02 00:00:00'), Timestamp('2029-11-15 00:00:00'), Timestamp('2029-12-25 00:00:00'), Timestamp('2030-01-01 00:00:00'), Timestamp('2030-03-04 00:00:00'), Timestamp('2030-03-05 00:00:00'), Timestamp('2030-04-19 00:00:00'), Timestamp('2030-04-21 00:00:00'), Timestamp('2030-05-01 00:00:00'), Timestamp('2030-06-20 00:00:00'), Timestamp('2030-09-07 00:00:00'), Timestamp('2030-10-12 00:00:00'), Timestamp('2030-11-02 00:00:00'), Timestamp('2030-11-15 00:00:00'), Timestamp('2030-12-25 00:00:00'), Timestamp('2031-01-01 00:00:00'), Timestamp('2031-02-24 00:00:00'), Timestamp('2031-02-25 00:00:00'), Timestamp('2031-04-11 00:00:00'), Timestamp('2031-04-21 00:00:00'), Timestamp('2031-05-01 00:00:00'), Timestamp('2031-06-12 00:00:00'), Timestamp('2031-09-07 00:00:00'), Timestamp('2031-10-12 00:00:00'), Timestamp('2031-11-02 00:00:00'), Timestamp('2031-11-15 00:00:00'), Timestamp('2031-12-25 00:00:00'), Timestamp('2032-01-01 00:00:00'), Timestamp('2032-02-09 00:00:00'), Timestamp('2032-02-10 00:00:00'), Timestamp('2032-03-26 00:00:00'), Timestamp('2032-04-21 00:00:00'), Timestamp('2032-05-01 00:00:00'), Timestamp('2032-05-27 00:00:00'), Timestamp('2032-09-07 00:00:00'), Timestamp('2032-10-12 00:00:00'), Timestamp('2032-11-02 00:00:00'), Timestamp('2032-11-15 00:00:00'), Timestamp('2032-12-25 00:00:00'), Timestamp('2033-01-01 00:00:00'), Timestamp('2033-02-28 00:00:00'), Timestamp('2033-03-01 00:00:00'), Timestamp('2033-04-15 00:00:00'), Timestamp('2033-04-21 00:00:00'), Timestamp('2033-05-01 00:00:00'), Timestamp('2033-06-16 00:00:00'), Timestamp('2033-09-07 00:00:00'), Timestamp('2033-10-12 00:00:00'), Timestamp('2033-11-02 00:00:00'), Timestamp('2033-11-15 00:00:00'), Timestamp('2033-12-25 00:00:00'), Timestamp('2034-01-01 00:00:00'), Timestamp('2034-02-20 00:00:00'), Timestamp('2034-02-21 00:00:00'), Timestamp('2034-04-07 00:00:00'), Timestamp('2034-04-21 00:00:00'), Timestamp('2034-05-01 00:00:00'), Timestamp('2034-06-08 00:00:00'), Timestamp('2034-09-07 00:00:00'), Timestamp('2034-10-12 00:00:00'), Timestamp('2034-11-02 00:00:00'), Timestamp('2034-11-15 00:00:00'), Timestamp('2034-12-25 00:00:00'), Timestamp('2035-01-01 00:00:00'), Timestamp('2035-02-05 00:00:00'), Timestamp('2035-02-06 00:00:00'), Timestamp('2035-03-23 00:00:00'), Timestamp('2035-04-21 00:00:00'), Timestamp('2035-05-01 00:00:00'), Timestamp('2035-05-24 00:00:00'), Timestamp('2035-09-07 00:00:00'), Timestamp('2035-10-12 00:00:00'), Timestamp('2035-11-02 00:00:00'), Timestamp('2035-11-15 00:00:00'), Timestamp('2035-12-25 00:00:00'), Timestamp('2036-01-01 00:00:00'), Timestamp('2036-02-25 00:00:00'), Timestamp('2036-02-26 00:00:00'), Timestamp('2036-04-11 00:00:00'), Timestamp('2036-04-21 00:00:00'), Timestamp('2036-05-01 00:00:00'), Timestamp('2036-06-12 00:00:00'), Timestamp('2036-09-07 00:00:00'), Timestamp('2036-10-12 00:00:00'), Timestamp('2036-11-02 00:00:00'), Timestamp('2036-11-15 00:00:00'), Timestamp('2036-12-25 00:00:00'), Timestamp('2037-01-01 00:00:00'), Timestamp('2037-02-16 00:00:00'), Timestamp('2037-02-17 00:00:00'), Timestamp('2037-04-03 00:00:00'), Timestamp('2037-04-21 00:00:00'), Timestamp('2037-05-01 00:00:00'), Timestamp('2037-06-04 00:00:00'), Timestamp('2037-09-07 00:00:00'), Timestamp('2037-10-12 00:00:00'), Timestamp('2037-11-02 00:00:00'), Timestamp('2037-11-15 00:00:00'), Timestamp('2037-12-25 00:00:00'), Timestamp('2038-01-01 00:00:00'), Timestamp('2038-03-08 00:00:00'), Timestamp('2038-03-09 00:00:00'), Timestamp('2038-04-21 00:00:00'), Timestamp('2038-04-23 00:00:00'), Timestamp('2038-05-01 00:00:00'), Timestamp('2038-06-24 00:00:00'), Timestamp('2038-09-07 00:00:00'), Timestamp('2038-10-12 00:00:00'), Timestamp('2038-11-02 00:00:00'), Timestamp('2038-11-15 00:00:00'), Timestamp('2038-12-25 00:00:00'), Timestamp('2039-01-01 00:00:00'), Timestamp('2039-02-21 00:00:00'), Timestamp('2039-02-22 00:00:00'), Timestamp('2039-04-08 00:00:00'), Timestamp('2039-04-21 00:00:00'), Timestamp('2039-05-01 00:00:00'), Timestamp('2039-06-09 00:00:00'), Timestamp('2039-09-07 00:00:00'), Timestamp('2039-10-12 00:00:00'), Timestamp('2039-11-02 00:00:00'), Timestamp('2039-11-15 00:00:00'), Timestamp('2039-12-25 00:00:00'), Timestamp('2040-01-01 00:00:00'), Timestamp('2040-02-13 00:00:00'), Timestamp('2040-02-14 00:00:00'), Timestamp('2040-03-30 00:00:00'), Timestamp('2040-04-21 00:00:00'), Timestamp('2040-05-01 00:00:00'), Timestamp('2040-05-31 00:00:00'), Timestamp('2040-09-07 00:00:00'), Timestamp('2040-10-12 00:00:00'), Timestamp('2040-11-02 00:00:00'), Timestamp('2040-11-15 00:00:00'), Timestamp('2040-12-25 00:00:00'), Timestamp('2041-01-01 00:00:00'), Timestamp('2041-03-04 00:00:00'), Timestamp('2041-03-05 00:00:00'), Timestamp('2041-04-19 00:00:00'), Timestamp('2041-04-21 00:00:00'), Timestamp('2041-05-01 00:00:00'), Timestamp('2041-06-20 00:00:00'), Timestamp('2041-09-07 00:00:00'), Timestamp('2041-10-12 00:00:00'), Timestamp('2041-11-02 00:00:00'), Timestamp('2041-11-15 00:00:00'), Timestamp('2041-12-25 00:00:00'), Timestamp('2042-01-01 00:00:00'), Timestamp('2042-02-17 00:00:00'), Timestamp('2042-02-18 00:00:00'), Timestamp('2042-04-04 00:00:00'), Timestamp('2042-04-21 00:00:00'), Timestamp('2042-05-01 00:00:00'), Timestamp('2042-06-05 00:00:00'), Timestamp('2042-09-07 00:00:00'), Timestamp('2042-10-12 00:00:00'), Timestamp('2042-11-02 00:00:00'), Timestamp('2042-11-15 00:00:00'), Timestamp('2042-12-25 00:00:00'), Timestamp('2043-01-01 00:00:00'), Timestamp('2043-02-09 00:00:00'), Timestamp('2043-02-10 00:00:00'), Timestamp('2043-03-27 00:00:00'), Timestamp('2043-04-21 00:00:00'), Timestamp('2043-05-01 00:00:00'), Timestamp('2043-05-28 00:00:00'), Timestamp('2043-09-07 00:00:00'), Timestamp('2043-10-12 00:00:00'), Timestamp('2043-11-02 00:00:00'), Timestamp('2043-11-15 00:00:00'), Timestamp('2043-12-25 00:00:00'), Timestamp('2044-01-01 00:00:00'), Timestamp('2044-02-29 00:00:00'), Timestamp('2044-03-01 00:00:00'), Timestamp('2044-04-15 00:00:00'), Timestamp('2044-04-21 00:00:00'), Timestamp('2044-05-01 00:00:00'), Timestamp('2044-06-16 00:00:00'), Timestamp('2044-09-07 00:00:00'), Timestamp('2044-10-12 00:00:00'), Timestamp('2044-11-02 00:00:00'), Timestamp('2044-11-15 00:00:00'), Timestamp('2044-12-25 00:00:00'), Timestamp('2045-01-01 00:00:00'), Timestamp('2045-02-20 00:00:00'), Timestamp('2045-02-21 00:00:00'), Timestamp('2045-04-07 00:00:00'), Timestamp('2045-04-21 00:00:00'), Timestamp('2045-05-01 00:00:00'), Timestamp('2045-06-08 00:00:00'), Timestamp('2045-09-07 00:00:00'), Timestamp('2045-10-12 00:00:00'), Timestamp('2045-11-02 00:00:00'), Timestamp('2045-11-15 00:00:00'), Timestamp('2045-12-25 00:00:00'), Timestamp('2046-01-01 00:00:00'), Timestamp('2046-02-05 00:00:00'), Timestamp('2046-02-06 00:00:00'), Timestamp('2046-03-23 00:00:00'), Timestamp('2046-04-21 00:00:00'), Timestamp('2046-05-01 00:00:00'), Timestamp('2046-05-24 00:00:00'), Timestamp('2046-09-07 00:00:00'), Timestamp('2046-10-12 00:00:00'), Timestamp('2046-11-02 00:00:00'), Timestamp('2046-11-15 00:00:00'), Timestamp('2046-12-25 00:00:00'), Timestamp('2047-01-01 00:00:00'), Timestamp('2047-02-25 00:00:00'), Timestamp('2047-02-26 00:00:00'), Timestamp('2047-04-12 00:00:00'), Timestamp('2047-04-21 00:00:00'), Timestamp('2047-05-01 00:00:00'), Timestamp('2047-06-13 00:00:00'), Timestamp('2047-09-07 00:00:00'), Timestamp('2047-10-12 00:00:00'), Timestamp('2047-11-02 00:00:00'), Timestamp('2047-11-15 00:00:00'), Timestamp('2047-12-25 00:00:00'), Timestamp('2048-01-01 00:00:00'), Timestamp('2048-02-17 00:00:00'), Timestamp('2048-02-18 00:00:00'), Timestamp('2048-04-03 00:00:00'), Timestamp('2048-04-21 00:00:00'), Timestamp('2048-05-01 00:00:00'), Timestamp('2048-06-04 00:00:00'), Timestamp('2048-09-07 00:00:00'), Timestamp('2048-10-12 00:00:00'), Timestamp('2048-11-02 00:00:00'), Timestamp('2048-11-15 00:00:00'), Timestamp('2048-12-25 00:00:00'), Timestamp('2049-01-01 00:00:00'), Timestamp('2049-03-01 00:00:00'), Timestamp('2049-03-02 00:00:00'), Timestamp('2049-04-16 00:00:00'), Timestamp('2049-04-21 00:00:00'), Timestamp('2049-05-01 00:00:00'), Timestamp('2049-06-17 00:00:00'), Timestamp('2049-09-07 00:00:00'), Timestamp('2049-10-12 00:00:00'), Timestamp('2049-11-02 00:00:00'), Timestamp('2049-11-15 00:00:00'), Timestamp('2049-12-25 00:00:00'), Timestamp('2050-01-01 00:00:00'), Timestamp('2050-02-21 00:00:00'), Timestamp('2050-02-22 00:00:00'), Timestamp('2050-04-08 00:00:00'), Timestamp('2050-04-21 00:00:00'), Timestamp('2050-05-01 00:00:00'), Timestamp('2050-06-09 00:00:00'), Timestamp('2050-09-07 00:00:00'), Timestamp('2050-10-12 00:00:00'), Timestamp('2050-11-02 00:00:00'), Timestamp('2050-11-15 00:00:00'), Timestamp('2050-12-25 00:00:00'), Timestamp('2051-01-01 00:00:00'), Timestamp('2051-02-13 00:00:00'), Timestamp('2051-02-14 00:00:00'), Timestamp('2051-03-31 00:00:00'), Timestamp('2051-04-21 00:00:00'), Timestamp('2051-05-01 00:00:00'), Timestamp('2051-06-01 00:00:00'), Timestamp('2051-09-07 00:00:00'), Timestamp('2051-10-12 00:00:00'), Timestamp('2051-11-02 00:00:00'), Timestamp('2051-11-15 00:00:00'), Timestamp('2051-12-25 00:00:00'), Timestamp('2052-01-01 00:00:00'), Timestamp('2052-03-04 00:00:00'), Timestamp('2052-03-05 00:00:00'), Timestamp('2052-04-19 00:00:00'), Timestamp('2052-04-21 00:00:00'), Timestamp('2052-05-01 00:00:00'), Timestamp('2052-06-20 00:00:00'), Timestamp('2052-09-07 00:00:00'), Timestamp('2052-10-12 00:00:00'), Timestamp('2052-11-02 00:00:00'), Timestamp('2052-11-15 00:00:00'), Timestamp('2052-12-25 00:00:00'), Timestamp('2053-01-01 00:00:00'), Timestamp('2053-02-17 00:00:00'), Timestamp('2053-02-18 00:00:00'), Timestamp('2053-04-04 00:00:00'), Timestamp('2053-04-21 00:00:00'), Timestamp('2053-05-01 00:00:00'), Timestamp('2053-06-05 00:00:00'), Timestamp('2053-09-07 00:00:00'), Timestamp('2053-10-12 00:00:00'), Timestamp('2053-11-02 00:00:00'), Timestamp('2053-11-15 00:00:00'), Timestamp('2053-12-25 00:00:00'), Timestamp('2054-01-01 00:00:00'), Timestamp('2054-02-09 00:00:00'), Timestamp('2054-02-10 00:00:00'), Timestamp('2054-03-27 00:00:00'), Timestamp('2054-04-21 00:00:00'), Timestamp('2054-05-01 00:00:00'), Timestamp('2054-05-28 00:00:00'), Timestamp('2054-09-07 00:00:00'), Timestamp('2054-10-12 00:00:00'), Timestamp('2054-11-02 00:00:00'), Timestamp('2054-11-15 00:00:00'), Timestamp('2054-12-25 00:00:00'), Timestamp('2055-01-01 00:00:00'), Timestamp('2055-03-01 00:00:00'), Timestamp('2055-03-02 00:00:00'), Timestamp('2055-04-16 00:00:00'), Timestamp('2055-04-21 00:00:00'), Timestamp('2055-05-01 00:00:00'), Timestamp('2055-06-17 00:00:00'), Timestamp('2055-09-07 00:00:00'), Timestamp('2055-10-12 00:00:00'), Timestamp('2055-11-02 00:00:00'), Timestamp('2055-11-15 00:00:00'), Timestamp('2055-12-25 00:00:00'), Timestamp('2056-01-01 00:00:00'), Timestamp('2056-02-14 00:00:00'), Timestamp('2056-02-15 00:00:00'), Timestamp('2056-03-31 00:00:00'), Timestamp('2056-04-21 00:00:00'), Timestamp('2056-05-01 00:00:00'), Timestamp('2056-06-01 00:00:00'), Timestamp('2056-09-07 00:00:00'), Timestamp('2056-10-12 00:00:00'), Timestamp('2056-11-02 00:00:00'), Timestamp('2056-11-15 00:00:00'), Timestamp('2056-12-25 00:00:00'), Timestamp('2057-01-01 00:00:00'), Timestamp('2057-03-05 00:00:00'), Timestamp('2057-03-06 00:00:00'), Timestamp('2057-04-20 00:00:00'), Timestamp('2057-04-21 00:00:00'), Timestamp('2057-05-01 00:00:00'), Timestamp('2057-06-21 00:00:00'), Timestamp('2057-09-07 00:00:00'), Timestamp('2057-10-12 00:00:00'), Timestamp('2057-11-02 00:00:00'), Timestamp('2057-11-15 00:00:00'), Timestamp('2057-12-25 00:00:00'), Timestamp('2058-01-01 00:00:00'), Timestamp('2058-02-25 00:00:00'), Timestamp('2058-02-26 00:00:00'), Timestamp('2058-04-12 00:00:00'), Timestamp('2058-04-21 00:00:00'), Timestamp('2058-05-01 00:00:00'), Timestamp('2058-06-13 00:00:00'), Timestamp('2058-09-07 00:00:00'), Timestamp('2058-10-12 00:00:00'), Timestamp('2058-11-02 00:00:00'), Timestamp('2058-11-15 00:00:00'), Timestamp('2058-12-25 00:00:00'), Timestamp('2059-01-01 00:00:00'), Timestamp('2059-02-10 00:00:00'), Timestamp('2059-02-11 00:00:00'), Timestamp('2059-03-28 00:00:00'), Timestamp('2059-04-21 00:00:00'), Timestamp('2059-05-01 00:00:00'), Timestamp('2059-05-29 00:00:00'), Timestamp('2059-09-07 00:00:00'), Timestamp('2059-10-12 00:00:00'), Timestamp('2059-11-02 00:00:00'), Timestamp('2059-11-15 00:00:00'), Timestamp('2059-12-25 00:00:00'), Timestamp('2060-01-01 00:00:00'), Timestamp('2060-03-01 00:00:00'), Timestamp('2060-03-02 00:00:00'), Timestamp('2060-04-16 00:00:00'), Timestamp('2060-04-21 00:00:00'), Timestamp('2060-05-01 00:00:00'), Timestamp('2060-06-17 00:00:00'), Timestamp('2060-09-07 00:00:00'), Timestamp('2060-10-12 00:00:00'), Timestamp('2060-11-02 00:00:00'), Timestamp('2060-11-15 00:00:00'), Timestamp('2060-12-25 00:00:00'), Timestamp('2061-01-01 00:00:00'), Timestamp('2061-02-21 00:00:00'), Timestamp('2061-02-22 00:00:00'), Timestamp('2061-04-08 00:00:00'), Timestamp('2061-04-21 00:00:00'), Timestamp('2061-05-01 00:00:00'), Timestamp('2061-06-09 00:00:00'), Timestamp('2061-09-07 00:00:00'), Timestamp('2061-10-12 00:00:00'), Timestamp('2061-11-02 00:00:00'), Timestamp('2061-11-15 00:00:00'), Timestamp('2061-12-25 00:00:00'), Timestamp('2062-01-01 00:00:00'), Timestamp('2062-02-06 00:00:00'), Timestamp('2062-02-07 00:00:00'), Timestamp('2062-03-24 00:00:00'), Timestamp('2062-04-21 00:00:00'), Timestamp('2062-05-01 00:00:00'), Timestamp('2062-05-25 00:00:00'), Timestamp('2062-09-07 00:00:00'), Timestamp('2062-10-12 00:00:00'), Timestamp('2062-11-02 00:00:00'), Timestamp('2062-11-15 00:00:00'), Timestamp('2062-12-25 00:00:00'), Timestamp('2063-01-01 00:00:00'), Timestamp('2063-02-26 00:00:00'), Timestamp('2063-02-27 00:00:00'), Timestamp('2063-04-13 00:00:00'), Timestamp('2063-04-21 00:00:00'), Timestamp('2063-05-01 00:00:00'), Timestamp('2063-06-14 00:00:00'), Timestamp('2063-09-07 00:00:00'), Timestamp('2063-10-12 00:00:00'), Timestamp('2063-11-02 00:00:00'), Timestamp('2063-11-15 00:00:00'), Timestamp('2063-12-25 00:00:00'), Timestamp('2064-01-01 00:00:00'), Timestamp('2064-02-18 00:00:00'), Timestamp('2064-02-19 00:00:00'), Timestamp('2064-04-04 00:00:00'), Timestamp('2064-04-21 00:00:00'), Timestamp('2064-05-01 00:00:00'), Timestamp('2064-06-05 00:00:00'), Timestamp('2064-09-07 00:00:00'), Timestamp('2064-10-12 00:00:00'), Timestamp('2064-11-02 00:00:00'), Timestamp('2064-11-15 00:00:00'), Timestamp('2064-12-25 00:00:00'), Timestamp('2065-01-01 00:00:00'), Timestamp('2065-02-09 00:00:00'), Timestamp('2065-02-10 00:00:00'), Timestamp('2065-03-27 00:00:00'), Timestamp('2065-04-21 00:00:00'), Timestamp('2065-05-01 00:00:00'), Timestamp('2065-05-28 00:00:00'), Timestamp('2065-09-07 00:00:00'), Timestamp('2065-10-12 00:00:00'), Timestamp('2065-11-02 00:00:00'), Timestamp('2065-11-15 00:00:00'), Timestamp('2065-12-25 00:00:00'), Timestamp('2066-01-01 00:00:00'), Timestamp('2066-02-22 00:00:00'), Timestamp('2066-02-23 00:00:00'), Timestamp('2066-04-09 00:00:00'), Timestamp('2066-04-21 00:00:00'), Timestamp('2066-05-01 00:00:00'), Timestamp('2066-06-10 00:00:00'), Timestamp('2066-09-07 00:00:00'), Timestamp('2066-10-12 00:00:00'), Timestamp('2066-11-02 00:00:00'), Timestamp('2066-11-15 00:00:00'), Timestamp('2066-12-25 00:00:00'), Timestamp('2067-01-01 00:00:00'), Timestamp('2067-02-14 00:00:00'), Timestamp('2067-02-15 00:00:00'), Timestamp('2067-04-01 00:00:00'), Timestamp('2067-04-21 00:00:00'), Timestamp('2067-05-01 00:00:00'), Timestamp('2067-06-02 00:00:00'), Timestamp('2067-09-07 00:00:00'), Timestamp('2067-10-12 00:00:00'), Timestamp('2067-11-02 00:00:00'), Timestamp('2067-11-15 00:00:00'), Timestamp('2067-12-25 00:00:00'), Timestamp('2068-01-01 00:00:00'), Timestamp('2068-03-05 00:00:00'), Timestamp('2068-03-06 00:00:00'), Timestamp('2068-04-20 00:00:00'), Timestamp('2068-04-21 00:00:00'), Timestamp('2068-05-01 00:00:00'), Timestamp('2068-06-21 00:00:00'), Timestamp('2068-09-07 00:00:00'), Timestamp('2068-10-12 00:00:00'), Timestamp('2068-11-02 00:00:00'), Timestamp('2068-11-15 00:00:00'), Timestamp('2068-12-25 00:00:00'), Timestamp('2069-01-01 00:00:00'), Timestamp('2069-02-25 00:00:00'), Timestamp('2069-02-26 00:00:00'), Timestamp('2069-04-12 00:00:00'), Timestamp('2069-04-21 00:00:00'), Timestamp('2069-05-01 00:00:00'), Timestamp('2069-06-13 00:00:00'), Timestamp('2069-09-07 00:00:00'), Timestamp('2069-10-12 00:00:00'), Timestamp('2069-11-02 00:00:00'), Timestamp('2069-11-15 00:00:00'), Timestamp('2069-12-25 00:00:00'), Timestamp('2070-01-01 00:00:00'), Timestamp('2070-02-10 00:00:00'), Timestamp('2070-02-11 00:00:00'), Timestamp('2070-03-28 00:00:00'), Timestamp('2070-04-21 00:00:00'), Timestamp('2070-05-01 00:00:00'), Timestamp('2070-05-29 00:00:00'), Timestamp('2070-09-07 00:00:00'), Timestamp('2070-10-12 00:00:00'), Timestamp('2070-11-02 00:00:00'), Timestamp('2070-11-15 00:00:00'), Timestamp('2070-12-25 00:00:00'), Timestamp('2071-01-01 00:00:00'), Timestamp('2071-03-02 00:00:00'), Timestamp('2071-03-03 00:00:00'), Timestamp('2071-04-17 00:00:00'), Timestamp('2071-04-21 00:00:00'), Timestamp('2071-05-01 00:00:00'), Timestamp('2071-06-18 00:00:00'), Timestamp('2071-09-07 00:00:00'), Timestamp('2071-10-12 00:00:00'), Timestamp('2071-11-02 00:00:00'), Timestamp('2071-11-15 00:00:00'), Timestamp('2071-12-25 00:00:00'), Timestamp('2072-01-01 00:00:00'), Timestamp('2072-02-22 00:00:00'), Timestamp('2072-02-23 00:00:00'), Timestamp('2072-04-08 00:00:00'), Timestamp('2072-04-21 00:00:00'), Timestamp('2072-05-01 00:00:00'), Timestamp('2072-06-09 00:00:00'), Timestamp('2072-09-07 00:00:00'), Timestamp('2072-10-12 00:00:00'), Timestamp('2072-11-02 00:00:00'), Timestamp('2072-11-15 00:00:00'), Timestamp('2072-12-25 00:00:00'), Timestamp('2073-01-01 00:00:00'), Timestamp('2073-02-06 00:00:00'), Timestamp('2073-02-07 00:00:00'), Timestamp('2073-03-24 00:00:00'), Timestamp('2073-04-21 00:00:00'), Timestamp('2073-05-01 00:00:00'), Timestamp('2073-05-25 00:00:00'), Timestamp('2073-09-07 00:00:00'), Timestamp('2073-10-12 00:00:00'), Timestamp('2073-11-02 00:00:00'), Timestamp('2073-11-15 00:00:00'), Timestamp('2073-12-25 00:00:00'), Timestamp('2074-01-01 00:00:00'), Timestamp('2074-02-26 00:00:00'), Timestamp('2074-02-27 00:00:00'), Timestamp('2074-04-13 00:00:00'), Timestamp('2074-04-21 00:00:00'), Timestamp('2074-05-01 00:00:00'), Timestamp('2074-06-14 00:00:00'), Timestamp('2074-09-07 00:00:00'), Timestamp('2074-10-12 00:00:00'), Timestamp('2074-11-02 00:00:00'), Timestamp('2074-11-15 00:00:00'), Timestamp('2074-12-25 00:00:00'), Timestamp('2075-01-01 00:00:00'), Timestamp('2075-02-18 00:00:00'), Timestamp('2075-02-19 00:00:00'), Timestamp('2075-04-05 00:00:00'), Timestamp('2075-04-21 00:00:00'), Timestamp('2075-05-01 00:00:00'), Timestamp('2075-06-06 00:00:00'), Timestamp('2075-09-07 00:00:00'), Timestamp('2075-10-12 00:00:00'), Timestamp('2075-11-02 00:00:00'), Timestamp('2075-11-15 00:00:00'), Timestamp('2075-12-25 00:00:00'), Timestamp('2076-01-01 00:00:00'), Timestamp('2076-03-02 00:00:00'), Timestamp('2076-03-03 00:00:00'), Timestamp('2076-04-17 00:00:00'), Timestamp('2076-04-21 00:00:00'), Timestamp('2076-05-01 00:00:00'), Timestamp('2076-06-18 00:00:00'), Timestamp('2076-09-07 00:00:00'), Timestamp('2076-10-12 00:00:00'), Timestamp('2076-11-02 00:00:00'), Timestamp('2076-11-15 00:00:00'), Timestamp('2076-12-25 00:00:00'), Timestamp('2077-01-01 00:00:00'), Timestamp('2077-02-22 00:00:00'), Timestamp('2077-02-23 00:00:00'), Timestamp('2077-04-09 00:00:00'), Timestamp('2077-04-21 00:00:00'), Timestamp('2077-05-01 00:00:00'), Timestamp('2077-06-10 00:00:00'), Timestamp('2077-09-07 00:00:00'), Timestamp('2077-10-12 00:00:00'), Timestamp('2077-11-02 00:00:00'), Timestamp('2077-11-15 00:00:00'), Timestamp('2077-12-25 00:00:00'), Timestamp('2078-01-01 00:00:00'), Timestamp('2078-02-14 00:00:00'), Timestamp('2078-02-15 00:00:00'), Timestamp('2078-04-01 00:00:00'), Timestamp('2078-04-21 00:00:00'), Timestamp('2078-05-01 00:00:00'), Timestamp('2078-06-02 00:00:00'), Timestamp('2078-09-07 00:00:00'), Timestamp('2078-10-12 00:00:00'), Timestamp('2078-11-02 00:00:00'), Timestamp('2078-11-15 00:00:00'), Timestamp('2078-12-25 00:00:00'), Timestamp('2079-01-01 00:00:00'), Timestamp('2079-03-06 00:00:00'), Timestamp('2079-03-07 00:00:00'), Timestamp('2079-04-21 00:00:00'), Timestamp('2079-04-21 00:00:00'), Timestamp('2079-05-01 00:00:00'), Timestamp('2079-06-22 00:00:00'), Timestamp('2079-09-07 00:00:00'), Timestamp('2079-10-12 00:00:00'), Timestamp('2079-11-02 00:00:00'), Timestamp('2079-11-15 00:00:00'), Timestamp('2079-12-25 00:00:00'), Timestamp('2080-01-01 00:00:00'), Timestamp('2080-02-19 00:00:00'), Timestamp('2080-02-20 00:00:00'), Timestamp('2080-04-05 00:00:00'), Timestamp('2080-04-21 00:00:00'), Timestamp('2080-05-01 00:00:00'), Timestamp('2080-06-06 00:00:00'), Timestamp('2080-09-07 00:00:00'), Timestamp('2080-10-12 00:00:00'), Timestamp('2080-11-02 00:00:00'), Timestamp('2080-11-15 00:00:00'), Timestamp('2080-12-25 00:00:00'), Timestamp('2081-01-01 00:00:00'), Timestamp('2081-02-10 00:00:00'), Timestamp('2081-02-11 00:00:00'), Timestamp('2081-03-28 00:00:00'), Timestamp('2081-04-21 00:00:00'), Timestamp('2081-05-01 00:00:00'), Timestamp('2081-05-29 00:00:00'), Timestamp('2081-09-07 00:00:00'), Timestamp('2081-10-12 00:00:00'), Timestamp('2081-11-02 00:00:00'), Timestamp('2081-11-15 00:00:00'), Timestamp('2081-12-25 00:00:00'), Timestamp('2082-01-01 00:00:00'), Timestamp('2082-03-02 00:00:00'), Timestamp('2082-03-03 00:00:00'), Timestamp('2082-04-17 00:00:00'), Timestamp('2082-04-21 00:00:00'), Timestamp('2082-05-01 00:00:00'), Timestamp('2082-06-18 00:00:00'), Timestamp('2082-09-07 00:00:00'), Timestamp('2082-10-12 00:00:00'), Timestamp('2082-11-02 00:00:00'), Timestamp('2082-11-15 00:00:00'), Timestamp('2082-12-25 00:00:00'), Timestamp('2083-01-01 00:00:00'), Timestamp('2083-02-15 00:00:00'), Timestamp('2083-02-16 00:00:00'), Timestamp('2083-04-02 00:00:00'), Timestamp('2083-04-21 00:00:00'), Timestamp('2083-05-01 00:00:00'), Timestamp('2083-06-03 00:00:00'), Timestamp('2083-09-07 00:00:00'), Timestamp('2083-10-12 00:00:00'), Timestamp('2083-11-02 00:00:00'), Timestamp('2083-11-15 00:00:00'), Timestamp('2083-12-25 00:00:00'), Timestamp('2084-01-01 00:00:00'), Timestamp('2084-02-07 00:00:00'), Timestamp('2084-02-08 00:00:00'), Timestamp('2084-03-24 00:00:00'), Timestamp('2084-04-21 00:00:00'), Timestamp('2084-05-01 00:00:00'), Timestamp('2084-05-25 00:00:00'), Timestamp('2084-09-07 00:00:00'), Timestamp('2084-10-12 00:00:00'), Timestamp('2084-11-02 00:00:00'), Timestamp('2084-11-15 00:00:00'), Timestamp('2084-12-25 00:00:00'), Timestamp('2085-01-01 00:00:00'), Timestamp('2085-02-26 00:00:00'), Timestamp('2085-02-27 00:00:00'), Timestamp('2085-04-13 00:00:00'), Timestamp('2085-04-21 00:00:00'), Timestamp('2085-05-01 00:00:00'), Timestamp('2085-06-14 00:00:00'), Timestamp('2085-09-07 00:00:00'), Timestamp('2085-10-12 00:00:00'), Timestamp('2085-11-02 00:00:00'), Timestamp('2085-11-15 00:00:00'), Timestamp('2085-12-25 00:00:00'), Timestamp('2086-01-01 00:00:00'), Timestamp('2086-02-11 00:00:00'), Timestamp('2086-02-12 00:00:00'), Timestamp('2086-03-29 00:00:00'), Timestamp('2086-04-21 00:00:00'), Timestamp('2086-05-01 00:00:00'), Timestamp('2086-05-30 00:00:00'), Timestamp('2086-09-07 00:00:00'), Timestamp('2086-10-12 00:00:00'), Timestamp('2086-11-02 00:00:00'), Timestamp('2086-11-15 00:00:00'), Timestamp('2086-12-25 00:00:00'), Timestamp('2087-01-01 00:00:00'), Timestamp('2087-03-03 00:00:00'), Timestamp('2087-03-04 00:00:00'), Timestamp('2087-04-18 00:00:00'), Timestamp('2087-04-21 00:00:00'), Timestamp('2087-05-01 00:00:00'), Timestamp('2087-06-19 00:00:00'), Timestamp('2087-09-07 00:00:00'), Timestamp('2087-10-12 00:00:00'), Timestamp('2087-11-02 00:00:00'), Timestamp('2087-11-15 00:00:00'), Timestamp('2087-12-25 00:00:00'), Timestamp('2088-01-01 00:00:00'), Timestamp('2088-02-23 00:00:00'), Timestamp('2088-02-24 00:00:00'), Timestamp('2088-04-09 00:00:00'), Timestamp('2088-04-21 00:00:00'), Timestamp('2088-05-01 00:00:00'), Timestamp('2088-06-10 00:00:00'), Timestamp('2088-09-07 00:00:00'), Timestamp('2088-10-12 00:00:00'), Timestamp('2088-11-02 00:00:00'), Timestamp('2088-11-15 00:00:00'), Timestamp('2088-12-25 00:00:00'), Timestamp('2089-01-01 00:00:00'), Timestamp('2089-02-14 00:00:00'), Timestamp('2089-02-15 00:00:00'), Timestamp('2089-04-01 00:00:00'), Timestamp('2089-04-21 00:00:00'), Timestamp('2089-05-01 00:00:00'), Timestamp('2089-06-02 00:00:00'), Timestamp('2089-09-07 00:00:00'), Timestamp('2089-10-12 00:00:00'), Timestamp('2089-11-02 00:00:00'), Timestamp('2089-11-15 00:00:00'), Timestamp('2089-12-25 00:00:00'), Timestamp('2090-01-01 00:00:00'), Timestamp('2090-02-27 00:00:00'), Timestamp('2090-02-28 00:00:00'), Timestamp('2090-04-14 00:00:00'), Timestamp('2090-04-21 00:00:00'), Timestamp('2090-05-01 00:00:00'), Timestamp('2090-06-15 00:00:00'), Timestamp('2090-09-07 00:00:00'), Timestamp('2090-10-12 00:00:00'), Timestamp('2090-11-02 00:00:00'), Timestamp('2090-11-15 00:00:00'), Timestamp('2090-12-25 00:00:00'), Timestamp('2091-01-01 00:00:00'), Timestamp('2091-02-19 00:00:00'), Timestamp('2091-02-20 00:00:00'), Timestamp('2091-04-06 00:00:00'), Timestamp('2091-04-21 00:00:00'), Timestamp('2091-05-01 00:00:00'), Timestamp('2091-06-07 00:00:00'), Timestamp('2091-09-07 00:00:00'), Timestamp('2091-10-12 00:00:00'), Timestamp('2091-11-02 00:00:00'), Timestamp('2091-11-15 00:00:00'), Timestamp('2091-12-25 00:00:00'), Timestamp('2092-01-01 00:00:00'), Timestamp('2092-02-11 00:00:00'), Timestamp('2092-02-12 00:00:00'), Timestamp('2092-03-28 00:00:00'), Timestamp('2092-04-21 00:00:00'), Timestamp('2092-05-01 00:00:00'), Timestamp('2092-05-29 00:00:00'), Timestamp('2092-09-07 00:00:00'), Timestamp('2092-10-12 00:00:00'), Timestamp('2092-11-02 00:00:00'), Timestamp('2092-11-15 00:00:00'), Timestamp('2092-12-25 00:00:00'), Timestamp('2093-01-01 00:00:00'), Timestamp('2093-02-23 00:00:00'), Timestamp('2093-02-24 00:00:00'), Timestamp('2093-04-10 00:00:00'), Timestamp('2093-04-21 00:00:00'), Timestamp('2093-05-01 00:00:00'), Timestamp('2093-06-11 00:00:00'), Timestamp('2093-09-07 00:00:00'), Timestamp('2093-10-12 00:00:00'), Timestamp('2093-11-02 00:00:00'), Timestamp('2093-11-15 00:00:00'), Timestamp('2093-12-25 00:00:00'), Timestamp('2094-01-01 00:00:00'), Timestamp('2094-02-15 00:00:00'), Timestamp('2094-02-16 00:00:00'), Timestamp('2094-04-02 00:00:00'), Timestamp('2094-04-21 00:00:00'), Timestamp('2094-05-01 00:00:00'), Timestamp('2094-06-03 00:00:00'), Timestamp('2094-09-07 00:00:00'), Timestamp('2094-10-12 00:00:00'), Timestamp('2094-11-02 00:00:00'), Timestamp('2094-11-15 00:00:00'), Timestamp('2094-12-25 00:00:00'), Timestamp('2095-01-01 00:00:00'), Timestamp('2095-03-07 00:00:00'), Timestamp('2095-03-08 00:00:00'), Timestamp('2095-04-21 00:00:00'), Timestamp('2095-04-22 00:00:00'), Timestamp('2095-05-01 00:00:00'), Timestamp('2095-06-23 00:00:00'), Timestamp('2095-09-07 00:00:00'), Timestamp('2095-10-12 00:00:00'), Timestamp('2095-11-02 00:00:00'), Timestamp('2095-11-15 00:00:00'), Timestamp('2095-12-25 00:00:00'), Timestamp('2096-01-01 00:00:00'), Timestamp('2096-02-27 00:00:00'), Timestamp('2096-02-28 00:00:00'), Timestamp('2096-04-13 00:00:00'), Timestamp('2096-04-21 00:00:00'), Timestamp('2096-05-01 00:00:00'), Timestamp('2096-06-14 00:00:00'), Timestamp('2096-09-07 00:00:00'), Timestamp('2096-10-12 00:00:00'), Timestamp('2096-11-02 00:00:00'), Timestamp('2096-11-15 00:00:00'), Timestamp('2096-12-25 00:00:00'), Timestamp('2097-01-01 00:00:00'), Timestamp('2097-02-11 00:00:00'), Timestamp('2097-02-12 00:00:00'), Timestamp('2097-03-29 00:00:00'), Timestamp('2097-04-21 00:00:00'), Timestamp('2097-05-01 00:00:00'), Timestamp('2097-05-30 00:00:00'), Timestamp('2097-09-07 00:00:00'), Timestamp('2097-10-12 00:00:00'), Timestamp('2097-11-02 00:00:00'), Timestamp('2097-11-15 00:00:00'), Timestamp('2097-12-25 00:00:00'), Timestamp('2098-01-01 00:00:00'), Timestamp('2098-03-03 00:00:00'), Timestamp('2098-03-04 00:00:00'), Timestamp('2098-04-18 00:00:00'), Timestamp('2098-04-21 00:00:00'), Timestamp('2098-05-01 00:00:00'), Timestamp('2098-06-19 00:00:00'), Timestamp('2098-09-07 00:00:00'), Timestamp('2098-10-12 00:00:00'), Timestamp('2098-11-02 00:00:00'), Timestamp('2098-11-15 00:00:00'), Timestamp('2098-12-25 00:00:00'), Timestamp('2099-01-01 00:00:00'), Timestamp('2099-02-23 00:00:00'), Timestamp('2099-02-24 00:00:00'), Timestamp('2099-04-10 00:00:00'), Timestamp('2099-04-21 00:00:00'), Timestamp('2099-05-01 00:00:00'), Timestamp('2099-06-11 00:00:00'), Timestamp('2099-09-07 00:00:00'), Timestamp('2099-10-12 00:00:00'), Timestamp('2099-11-02 00:00:00'), Timestamp('2099-11-15 00:00:00'), Timestamp('2099-12-25 00:00:00')]\n"
     ]
    }
   ],
   "source": [
    "## VENDA BASE PARA O MÊS\n",
    "from datetime import date\n",
    "from workalendar.america import Brazil\n",
    "\n",
    "url = 'http://www.anbima.com.br/feriados/arqs/feriados_nacionais.xls'\n",
    "\n",
    "feriados = pd.read_excel(url, usecols=\"A\", parse_dates=True)\n",
    "\n",
    "feriados.dropna(inplace=True)\n",
    "\n",
    "for index, row in feriados.iterrows():\n",
    "    if type(row[\"Data\"]) == str:\n",
    "        feriados.drop(index,axis=0,inplace=True)\n",
    "\n",
    "\n",
    "lista_datas = []\n",
    "for index, row in feriados.iterrows():\n",
    "    lista_datas.append(row['Data']) \n",
    "\n",
    "print(lista_datas)"
   ]
  },
  {
   "cell_type": "code",
   "execution_count": null,
   "metadata": {},
   "outputs": [],
   "source": [
    "## PREVISÃO DE RECEBIMENTO PARA O MÊS\n",
    "  #\n",
    "\n",
    "\n",
    "\n",
    "## EXTRATO BANCÁRIO PARA O MÊS\n",
    "  #\n",
    "\n",
    "  #print(data['Data da Venda'])\n",
    "  #proxima_data_util = data_atual + custom_bd\n",
    "  # print(proxima_data_util)\n",
    "  #print(data['Data de Recebimento'])\n",
    "\n",
    "  \n",
    "  #print(type(data['Data da Venda'][1]))\n",
    "\n",
    "  # data_recebimento = [(pd.to_datetime(data['Data da Venda'][i],dayfirst=True)) + custom_bd for ]\n",
    "\n",
    "  # data_recebimento = []\n",
    "  # for i in range(0,len(data)):\n",
    "    # data_recebimento.append(pd.to_datetime(data['Data da Venda'][i],dayfirst=True)+custom_bd)\n",
    "  # print(data_recebimento)"
   ]
  },
  {
   "cell_type": "code",
   "execution_count": null,
   "metadata": {},
   "outputs": [],
   "source": [
    "## MEDIA HISTÓRICA\n"
   ]
  }
 ],
 "metadata": {
  "kernelspec": {
   "display_name": "Python 3",
   "language": "python",
   "name": "python3"
  },
  "language_info": {
   "codemirror_mode": {
    "name": "ipython",
    "version": 3
   },
   "file_extension": ".py",
   "mimetype": "text/x-python",
   "name": "python",
   "nbconvert_exporter": "python",
   "pygments_lexer": "ipython3",
   "version": "3.10.7"
  }
 },
 "nbformat": 4,
 "nbformat_minor": 2
}
